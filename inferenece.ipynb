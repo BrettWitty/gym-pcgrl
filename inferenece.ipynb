{
 "cells": [
  {
   "cell_type": "code",
   "execution_count": null,
   "metadata": {
    "collapsed": false
   },
   "outputs": [],
   "source": [
    "#pip install tensorflow==1.15\n",
    "#Install stable-baselines as described in the documentation\n",
    "\n",
    "import gym\n",
    "import gym_pcgrl\n",
    "from gym_pcgrl import wrappers\n",
    "\n",
    "from stable_baselines.common.policies import MlpPolicy, CnnPolicy, FeedForwardPolicy\n",
    "from stable_baselines.common.vec_env import SubprocVecEnv, DummyVecEnv\n",
    "from stable_baselines.a2c.utils import conv, linear, conv_to_fc\n",
    "from stable_baselines.results_plotter import load_results, ts2xy\n",
    "from stable_baselines import PPO2\n",
    "\n",
    "import tensorflow as tf\n",
    "import numpy as np\n",
    "\n",
    "import pdb"
   ]
  },
  {
   "cell_type": "markdown",
   "metadata": {},
   "source": [
    "# Load Random Model"
   ]
  },
  {
   "cell_type": "code",
   "execution_count": null,
   "metadata": {
    "collapsed": false
   },
   "outputs": [],
   "source": [
    "def Cnn(image, **kwargs):\n",
    "    activ = tf.nn.relu\n",
    "    layer_1 = activ(conv(image, 'c1', n_filters=32, filter_size=3, stride=2, init_scale=np.sqrt(2), **kwargs)) # filter_size=3\n",
    "    layer_2 = activ(conv(layer_1, 'c2', n_filters=64, filter_size=3, stride=2, init_scale=np.sqrt(2), **kwargs)) #filter_size = 3\n",
    "    layer_3 = activ(conv(layer_2, 'c3', n_filters=64, filter_size=3, stride=1, init_scale=np.sqrt(2), **kwargs))\n",
    "    layer_3 = conv_to_fc(layer_3)\n",
    "    return activ(linear(layer_3, 'fc1', n_hidden=512, init_scale=np.sqrt(2)))\n",
    "\n",
    "class CustomPolicy(FeedForwardPolicy):\n",
    "    def __init__(self, *args, **kwargs):\n",
    "        super(CustomPolicy, self).__init__(*args, **kwargs, cnn_extractor=Cnn, feature_extraction=\"cnn\")\n",
    "\n",
    "model = PPO2(CustomPolicy, env, verbose=1, tensorboard_log=\"./runs\")"
   ]
  },
  {
   "cell_type": "markdown",
   "metadata": {},
   "source": [
    "# Load Saved Model"
   ]
  },
  {
   "cell_type": "code",
   "execution_count": null,
   "metadata": {
    "collapsed": false
   },
   "outputs": [],
   "source": [
    "model = PPO2.load(\"binary_narrow_limited_centered\")"
   ]
  },
  {
   "cell_type": "markdown",
   "metadata": {},
   "source": [
    "# Run Model"
   ]
  },
  {
   "cell_type": "code",
   "execution_count": null,
   "metadata": {
    "collapsed": false,
    "scrolled": true
   },
   "outputs": [],
   "source": [
    "%matplotlib inline\n",
    "import matplotlib.pyplot as plt\n",
    "from IPython import display\n",
    "\n",
    "def show_state(env, l, c, r, step=0, name=\"\", info=\"\"):\n",
    "    fig = plt.figure(10)\n",
    "    plt.clf()\n",
    "    \n",
    "    plt.title(\"{} | Step: {} Path: {} Changes: {} Regions: {}\".format(name, step, l[-1], c[-1], r[-1]))\n",
    "    \n",
    "    ax1 = fig.add_subplot(1,4,1)\n",
    "    ax1 = plt.imshow(env.render(mode='rgb_array'))\n",
    "    plt.axis('off')\n",
    "    \n",
    "    ax2 = fig.add_subplot(1,4,2)\n",
    "    ax2 = plt.plot(l)\n",
    "    \n",
    "    ax3 = fig.add_subplot(1,4,3)\n",
    "    ax3 = plt.plot(c)\n",
    "    \n",
    "    ax4 = fig.add_subplot(1,4,4)\n",
    "    ax4 = plt.plot(r)\n",
    "    \n",
    "    \n",
    "    fig.set_figwidth(15)\n",
    "    plt.tight_layout()\n",
    "    \n",
    "    display.clear_output(wait=True)\n",
    "    display.display(plt.gcf())\n",
    "\n",
    "def get_env():\n",
    "    env = wrappers.CroppedImagePCGRLWrapper(\"sokoban-narrow-v0\", 12, random_tile=False)\n",
    "    return env\n",
    "\n",
    "def get_action(env, model, action_type=True):\n",
    "    action = None\n",
    "    if action_type == 0:\n",
    "        action, _ = model.predict(obs)\n",
    "    elif action_type == 1:\n",
    "        action_prob = model.action_probability(obs)[0]\n",
    "        action = np.random.choice(a=list(range(len(action_prob))), size=1, p=action_prob)\n",
    "    else:\n",
    "        action = np.array([env.action_space.sample()])\n",
    "    return action\n",
    "\n",
    "env = DummyVecEnv([get_env])\n",
    "# Enjoy trained agent\n",
    "path_length = []\n",
    "changes = []\n",
    "regions = []\n",
    "obs = env.reset()\n",
    "for i in range(1000):\n",
    "    action = get_action(env, model, 1)\n",
    "    obs, rewards, dones, info = env.step(action)\n",
    "    path_length.append(info[0]['path-length'])\n",
    "    changes.append(info[0]['changes'])\n",
    "    regions.append(info[0]['regions'])\n",
    "    if dones:\n",
    "        break\n",
    "    show_state(env, path_length, changes, regions, i)"
   ]
  },
  {
   "cell_type": "markdown",
   "metadata": {
    "collapsed": true
   },
   "source": [
    "# Testing Binary Models"
   ]
  },
  {
   "cell_type": "code",
   "execution_count": null,
   "metadata": {
    "collapsed": true
   },
   "outputs": [],
   "source": [
    "import gym\n",
    "import gym_pcgrl\n",
    "from gym_pcgrl import wrappers\n",
    "\n",
    "from stable_baselines.common.policies import MlpPolicy, CnnPolicy, FeedForwardPolicy\n",
    "from stable_baselines.common.vec_env import SubprocVecEnv, DummyVecEnv\n",
    "from stable_baselines.a2c.utils import conv, linear, conv_to_fc\n",
    "from stable_baselines.results_plotter import load_results, ts2xy\n",
    "from stable_baselines import PPO2\n",
    "\n",
    "import tensorflow as tf\n",
    "import numpy as np\n",
    "\n",
    "%matplotlib inline\n",
    "import matplotlib.pyplot as plt\n",
    "from IPython import display\n",
    "\n",
    "p_name = \"binary\"\n",
    "t_path = 48\n",
    "c_size = 28\n",
    "sample_size = 50\n",
    "rep_names = [\"narrow\", \"turtle\"]\n",
    "exp_names = [\"noaction_heatmap_changes_100M\", \"heatmap_changes_100M\"]\n",
    "\n",
    "def get_env_func(p_name, c_size, r_name, ch_perc=0.2, t_path=48):\n",
    "    def get_env():\n",
    "        if r_name != \"wide\":\n",
    "            env = wrappers.CroppedImagePCGRLWrapper(\"{}-{}-v0\".format(p_name, r_name), c_size, random_tile=False, targer_path=t_path, change_percentage=ch_perc)\n",
    "        else:\n",
    "            env = wrappers.ActionMapImagePCGRLWrapper(\"{}-{}-v0\".format(p_name, r_name), random_tile=False, targer_path=t_path, change_percentage=ch_perc)\n",
    "        return env\n",
    "    return get_env\n",
    "\n",
    "pathlength_perc = {}\n",
    "pathlength={}\n",
    "regions_perc = {}\n",
    "regions={}\n",
    "both_perc = {}\n",
    "for i in range(len(exp_names)):\n",
    "    r_name = rep_names[i]\n",
    "    e_name = exp_names[i]\n",
    "    m_name = \"{}_{}_{}\".format(p_name, r_name, e_name)\n",
    "    pathlength_perc[m_name] = []\n",
    "    pathlength[m_name] = []\n",
    "    regions_perc[m_name] = []\n",
    "    regions[m_name] = []\n",
    "    both_perc[m_name] = []\n",
    "    model = PPO2.load(m_name)\n",
    "    for ch_perc in np.arange(0.05, 1.01, 0.05):\n",
    "        print(\"Testing {} at change percentage of {}\".format(m_name,ch_perc))\n",
    "        temp_path = []\n",
    "        temp_length = []\n",
    "        temp_regions = []\n",
    "        temp_number = []\n",
    "        temp_both = []\n",
    "        for i in range(sample_size):\n",
    "            env = DummyVecEnv([get_env_func(p_name, c_size, r_name, ch_perc, t_path)])\n",
    "            done = False\n",
    "            obs = env.reset()\n",
    "            while not done:\n",
    "                action, _ = model.predict(obs)\n",
    "                obs, rewards, done, info = env.step(action)\n",
    "            temp_path.append([0,1][info[0]['path-length']>=48])\n",
    "            temp_length.append(info[0]['path-length'])\n",
    "            temp_regions.append([0,1][info[0]['regions']==1])\n",
    "            temp_number.append(info[0]['regions'])\n",
    "            temp_both.append([0,1][temp_path[-1] == 1 and temp_regions[-1] == 1])\n",
    "        pathlength_perc[m_name].append(np.mean(temp_path))\n",
    "        pathlength[m_name].append(np.mean(temp_length))\n",
    "        regions_perc[m_name].append(np.mean(temp_regions))\n",
    "        regions[m_name].append(np.mean(temp_number))\n",
    "        both_perc[m_name].append(np.mean(temp_both))\n",
    "\n",
    "def plt_dict(p_dict, y_title, file_name):\n",
    "    plt.figure()\n",
    "    names = []\n",
    "    for name in p_dict:\n",
    "        plt.plot(np.array(np.arange(0.05,1.01,0.05)),p_dict[name])\n",
    "        names.append(name)\n",
    "    plt.legend(names)\n",
    "    plt.xlim(0.05,1.0)\n",
    "    plt.xticks(np.array(np.arange(0.05,1.01,0.05)), rotation=90)\n",
    "    plt.xlabel('change percentage')\n",
    "    plt.ylabel(y_title)\n",
    "    plt.savefig(file_name)\n",
    "        \n",
    "plt_dict(regions_perc, 'Percentage of levels with regions == 1', 'const_regions.pdf')       \n",
    "plt_dict(pathlength_perc, 'Percentage of levels with path length >= {}'.format(t_path), 'const_pathlength.pdf')\n",
    "plt_dict(regions, 'Number of Regions', 'regions.pdf')\n",
    "plt_dict(pathlength, 'Path Length', 'pathlength.pdf')"
   ]
  }
 ],
 "metadata": {
  "anaconda-cloud": {},
  "kernelspec": {
   "display_name": "Python [conda root]",
   "language": "python",
   "name": "conda-root-py"
  },
  "language_info": {
   "codemirror_mode": {
    "name": "ipython",
    "version": 3
   },
   "file_extension": ".py",
   "mimetype": "text/x-python",
   "name": "python",
   "nbconvert_exporter": "python",
   "pygments_lexer": "ipython3",
   "version": "3.5.2"
  }
 },
 "nbformat": 4,
 "nbformat_minor": 2
}
