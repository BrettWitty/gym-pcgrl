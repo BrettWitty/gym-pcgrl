{
 "cells": [
  {
   "cell_type": "code",
   "execution_count": 1,
   "metadata": {
    "collapsed": false
   },
   "outputs": [],
   "source": [
    "#pip install tensorflow==1.15\n",
    "#Install stable-baselines as described in the documentation\n",
    "\n",
    "import gym\n",
    "import gym_pcgrl\n",
    "from gym_pcgrl import wrappers\n",
    "\n",
    "from stable_baselines.common.policies import MlpPolicy, CnnPolicy, FeedForwardPolicy\n",
    "from stable_baselines.common.vec_env import SubprocVecEnv, DummyVecEnv\n",
    "from stable_baselines.a2c.utils import conv, linear, conv_to_fc\n",
    "from stable_baselines.results_plotter import load_results, ts2xy\n",
    "from stable_baselines import PPO2\n",
    "\n",
    "import tensorflow as tf\n",
    "import numpy as np\n",
    "\n",
    "import pdb\n",
    "\n",
    "model = PPO2.load(\"binary_narrow_limited_centered\")"
   ]
  },
  {
   "cell_type": "code",
   "execution_count": 3,
   "metadata": {
    "collapsed": false,
    "scrolled": true
   },
   "outputs": [
    {
     "name": "stdout",
     "output_type": "stream",
     "text": [
      "NAAAAAAY\n",
      "0.512899055480957\n"
     ]
    }
   ],
   "source": [
    "%matplotlib inline\n",
    "import matplotlib.pyplot as plt\n",
    "from IPython import display\n",
    "\n",
    "def show_state(env, l, c, r, step=0, name=\"\", info=\"\"):\n",
    "    fig = plt.figure(10)\n",
    "    plt.clf()\n",
    "    \n",
    "    plt.title(\"{} | Step: {} Path: {} Changes: {} Regions: {}\".format(name, step, l[-1], c[-1], r[-1]))\n",
    "    \n",
    "    ax1 = fig.add_subplot(1,4,1)\n",
    "    ax1 = plt.imshow(env.render(mode='rgb_array'))\n",
    "    plt.axis('off')\n",
    "    \n",
    "    ax2 = fig.add_subplot(1,4,2)\n",
    "    ax2 = plt.plot(l)\n",
    "    \n",
    "    ax3 = fig.add_subplot(1,4,3)\n",
    "    ax3 = plt.plot(c)\n",
    "    \n",
    "    ax4 = fig.add_subplot(1,4,4)\n",
    "    ax4 = plt.plot(r)\n",
    "    \n",
    "    \n",
    "    fig.set_figwidth(15)\n",
    "    plt.tight_layout()\n",
    "    \n",
    "    display.clear_output(wait=True)\n",
    "    display.display(plt.gcf())\n",
    "\n",
    "def get_env():\n",
    "    env = wrappers.Cropped(\"binary-narrow-v0\", 28, random_tile=False)\n",
    "    return env\n",
    "\n",
    "env = DummyVecEnv([get_env])\n",
    "# model = PPO2(CustomPolicy, env, verbose=1, tensorboard_log=\"./runs\")\n",
    "\n",
    "\n",
    "# Enjoy trained agent\n",
    "path_length = []\n",
    "changes = []\n",
    "regions = []\n",
    "obs = env.reset()\n",
    "for i in range(100):\n",
    "    action, _states = model.predict(obs)\n",
    "    #action = np.array([env.action_space.sample()])\n",
    "    obs, rewards, dones, info = env.step(action)\n",
    "    path_length.append(info[0]['path-length'])\n",
    "    changes.append(info[0]['changes'])\n",
    "    regions.append(info[0]['regions'])\n",
    "    if dones:\n",
    "        print(\"YAAAAAAAAAAAAAY\")\n",
    "        break\n",
    "    show_state(env, path_length, changes, regions, i)\n",
    "print(\"NAAAAAAY\")\n",
    "#print(info)"
   ]
  },
  {
   "cell_type": "code",
   "execution_count": null,
   "metadata": {
    "collapsed": true
   },
   "outputs": [],
   "source": []
  }
 ],
 "metadata": {
  "anaconda-cloud": {},
  "kernelspec": {
   "display_name": "Python [default]",
   "language": "python",
   "name": "python3"
  },
  "language_info": {
   "codemirror_mode": {
    "name": "ipython",
    "version": 3
   },
   "file_extension": ".py",
   "mimetype": "text/x-python",
   "name": "python",
   "nbconvert_exporter": "python",
   "pygments_lexer": "ipython3",
   "version": "3.5.2"
  }
 },
 "nbformat": 4,
 "nbformat_minor": 2
}
